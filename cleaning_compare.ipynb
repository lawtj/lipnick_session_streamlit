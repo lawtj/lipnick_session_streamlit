{
 "cells": [
  {
   "cell_type": "code",
   "execution_count": 8,
   "metadata": {},
   "outputs": [],
   "source": [
    "import pandas as pd\n",
    "import numpy as np\n",
    "import plotly.express as px\n",
    "import io\n",
    "import openox as ox\n",
    "from exclude_unclean import *\n",
    "from session_functions import threesamples, recalculate_so2_range\n",
    "from importlib import reload\n",
    "import ipywidgets\n",
    "import os\n",
    "from tqdm.notebook import tqdm\n"
   ]
  },
  {
   "cell_type": "code",
   "execution_count": 7,
   "metadata": {},
   "outputs": [],
   "source": [
    "abg = pd.read_csv('../OpenOxPHIData/output_internal_bloodgas.csv')\n",
    "threesamples(abg)\n",
    "abg = abg[['date','time','sample','so2','session']]\n"
   ]
  },
  {
   "cell_type": "markdown",
   "metadata": {},
   "source": [
    "# count number of non null samples in each labview 2hz file\n"
   ]
  },
  {
   "cell_type": "code",
   "execution_count": 19,
   "metadata": {},
   "outputs": [],
   "source": [
    "uncleancount = {}\n",
    "\n",
    "# load all csvs\n",
    "for file in os.listdir('../OpenOxPHIData/waveforms/labview_2hz'):\n",
    "    df = pd.read_csv(f'../OpenOxPHIData/waveforms/labview_2hz/{file}')\n",
    "    if \"Nellcor/SpO2\" in df.columns:\n",
    "        nellcorcol = \"Nellcor/SpO2\"\n",
    "    else:\n",
    "        nellcorcol = \"Nellcor PM1000N-1/SpO2\"\n",
    "    uncleancount[file] = len(df[df[nellcorcol] > 0])"
   ]
  },
  {
   "cell_type": "code",
   "execution_count": 20,
   "metadata": {},
   "outputs": [],
   "source": [
    "cleancount = {}\n",
    "for file in os.listdir('../OpenOxPHIData/cleaned/waveforms/labview_2hz'):\n",
    "    df = pd.read_csv(f'../OpenOxPHIData/cleaned/waveforms/labview_2hz/{file}')\n",
    "    if \"Nellcor/SpO2\" in df.columns:\n",
    "        nellcorcol = \"Nellcor/SpO2\"\n",
    "    else:\n",
    "        nellcorcol = \"Nellcor PM1000N-1/SpO2\"\n",
    "    cleancount[file] = len(df[df[nellcorcol] > 0])"
   ]
  },
  {
   "cell_type": "code",
   "execution_count": 31,
   "metadata": {},
   "outputs": [
    {
     "data": {
      "text/plain": [
       "0    2589100.0\n",
       "1    2577644.0\n",
       "dtype: float64"
      ]
     },
     "execution_count": 31,
     "metadata": {},
     "output_type": "execute_result"
    }
   ],
   "source": [
    "pd.DataFrame([uncleancount,cleancount]).T.sum()"
   ]
  },
  {
   "cell_type": "code",
   "execution_count": 8,
   "metadata": {},
   "outputs": [
    {
     "name": "stderr",
     "output_type": "stream",
     "text": [
      "c:\\Users\\LawT\\Downloads\\python\\openox\\lipnick_session_streamlit\\openox\\__init__.py:273: RuntimeWarning: invalid value encountered in cast\n",
      "  for i in abg['session'].unique().astype(int):\n"
     ]
    },
    {
     "name": "stdout",
     "output_type": "stream",
     "text": [
      "No file for session 139 at ../OpenOxPHIData/waveforms/labview_2hz/labview_session_139_2hz.csv\n",
      "No file for session -2147483648 at ../OpenOxPHIData/waveforms/labview_2hz/labview_session_-2147483648_2hz.csv\n",
      "No file for session 17 at ../OpenOxPHIData/waveforms/labview_2hz/labview_session_17_2hz.csv\n",
      "No file for session 74 at ../OpenOxPHIData/waveforms/labview_2hz/labview_session_74_2hz.csv\n",
      "No file for session 412 at ../OpenOxPHIData/waveforms/labview_2hz/labview_session_412_2hz.csv\n",
      "No file for session 417 at ../OpenOxPHIData/waveforms/labview_2hz/labview_session_417_2hz.csv\n",
      "up in the clouds with session 549\n",
      "up in the clouds with session 550\n",
      "up in the clouds with session 551\n",
      "up in the clouds with session 552\n",
      "up in the clouds with session 553\n",
      "up in the clouds with session 554\n",
      "up in the clouds with session 555\n",
      "up in the clouds with session 556\n",
      "up in the clouds with session 557\n",
      "up in the clouds with session 558\n",
      "up in the clouds with session 559\n",
      "up in the clouds with session 560\n",
      "up in the clouds with session 561\n",
      "up in the clouds with session 562\n",
      "up in the clouds with session 563\n",
      "up in the clouds with session 564\n",
      "up in the clouds with session 565\n",
      "up in the clouds with session 566\n",
      "up in the clouds with session 567\n",
      "up in the clouds with session 568\n",
      "up in the clouds with session 569\n",
      "up in the clouds with session 570\n",
      "up in the clouds with session 571\n",
      "up in the clouds with session 572\n",
      "up in the clouds with session 573\n",
      "up in the clouds with session 574\n",
      "up in the clouds with session 576\n",
      "up in the clouds with session 577\n",
      "up in the clouds with session 578\n",
      "up in the clouds with session 579\n",
      "up in the clouds with session 580\n",
      "up in the clouds with session 581\n",
      "up in the clouds with session 583\n",
      "up in the clouds with session 589\n",
      "up in the clouds with session 590\n",
      "up in the clouds with session 591\n",
      "up in the clouds with session 594\n",
      "up in the clouds with session 595\n",
      "up in the clouds with session 596\n",
      "up in the clouds with session 597\n",
      "up in the clouds with session 598\n",
      "up in the clouds with session 599\n",
      "up in the clouds with session 600\n",
      "up in the clouds with session 601\n",
      "up in the clouds with session 602\n",
      "up in the clouds with session 603\n",
      "up in the clouds with session 604\n",
      "up in the clouds with session 605\n",
      "up in the clouds with session 606\n",
      "up in the clouds with session 608\n",
      "up in the clouds with session 609\n",
      "up in the clouds with session 610\n",
      "up in the clouds with session 611\n",
      "up in the clouds with session 612\n",
      "up in the clouds with session 613\n",
      "up in the clouds with session 614\n",
      "up in the clouds with session 615\n",
      "up in the clouds with session 616\n",
      "up in the clouds with session 617\n",
      "up in the clouds with session 618\n",
      "up in the clouds with session 619\n",
      "up in the clouds with session 620\n",
      "up in the clouds with session 621\n",
      "up in the clouds with session 622\n",
      "up in the clouds with session 623\n",
      "up in the clouds with session 624\n",
      "up in the clouds with session 625\n",
      "extracting labview values.....\n"
     ]
    }
   ],
   "source": [
    "base_path = '../OpenOxPHIData/waveforms/labview_2hz/'\n",
    "pattern = 'labview_session_{}_2hz.csv'\n",
    "cols_to_summarize = ['Masimo 97/SpO2','Nellcor/SpO2'] \n",
    "labview_files = ox.get_labview_files(abg, base_path, pattern)\n",
    "labview_samples = ox.extract_values_by_sample(labview_files, 'session','Sample',5,cols_to_summarize,abg)"
   ]
  },
  {
   "cell_type": "markdown",
   "metadata": {},
   "source": [
    "## Create labview samples dataframe"
   ]
  },
  {
   "cell_type": "code",
   "execution_count": 5,
   "metadata": {},
   "outputs": [
    {
     "ename": "NameError",
     "evalue": "name 'labview_samples' is not defined",
     "output_type": "error",
     "traceback": [
      "\u001b[1;31m---------------------------------------------------------------------------\u001b[0m",
      "\u001b[1;31mNameError\u001b[0m                                 Traceback (most recent call last)",
      "Cell \u001b[1;32mIn[5], line 2\u001b[0m\n\u001b[0;32m      1\u001b[0m \u001b[38;5;66;03m#set everything to keep to start\u001b[39;00m\n\u001b[1;32m----> 2\u001b[0m \u001b[43mlabview_samples\u001b[49m[\u001b[38;5;124m'\u001b[39m\u001b[38;5;124mmanual_clean_so2\u001b[39m\u001b[38;5;124m'\u001b[39m] \u001b[38;5;241m=\u001b[39m \u001b[38;5;124m'\u001b[39m\u001b[38;5;124mkeep\u001b[39m\u001b[38;5;124m'\u001b[39m\n\u001b[0;32m      3\u001b[0m labview_samples[\u001b[38;5;124m'\u001b[39m\u001b[38;5;124mmanual_clean_masimo\u001b[39m\u001b[38;5;124m'\u001b[39m] \u001b[38;5;241m=\u001b[39m \u001b[38;5;124m'\u001b[39m\u001b[38;5;124mkeep\u001b[39m\u001b[38;5;124m'\u001b[39m\n\u001b[0;32m      4\u001b[0m labview_samples\u001b[38;5;241m.\u001b[39mhead()\n",
      "\u001b[1;31mNameError\u001b[0m: name 'labview_samples' is not defined"
     ]
    }
   ],
   "source": [
    "#set everything to keep to start\n",
    "labview_samples['manual_clean_so2'] = 'keep'\n",
    "labview_samples['manual_clean_masimo'] = 'keep'\n",
    "labview_samples.head()"
   ]
  },
  {
   "cell_type": "markdown",
   "metadata": {},
   "source": [
    "## How many sessions don't meet FDA Criteria, before cleaning?"
   ]
  },
  {
   "cell_type": "code",
   "execution_count": 46,
   "metadata": {},
   "outputs": [
    {
     "data": {
      "application/vnd.jupyter.widget-view+json": {
       "model_id": "1b4a881e24974cf2922680ad999305b0",
       "version_major": 2,
       "version_minor": 0
      },
      "text/plain": [
       "  0%|          | 0/317 [00:00<?, ?it/s]"
      ]
     },
     "metadata": {},
     "output_type": "display_data"
    },
    {
     "data": {
      "text/plain": [
       "rejected\n",
       "True     270\n",
       "False     47\n",
       "Name: count, dtype: int64"
      ]
     },
     "execution_count": 46,
     "metadata": {},
     "output_type": "execute_result"
    }
   ],
   "source": [
    "rejected_sessions_notcleaned = {}\n",
    "for name, group in (pbar:=(tqdm(labview_samples.groupby(['session']),total=len(pbar)))):\n",
    "    pbar.set_postfix_str(f\"session: {name}\")\n",
    "    group=group[group['algo'] == 'keep']\n",
    "    tuple, df = ox.session_criteria_check(group)\n",
    "    rejected_sessions_notcleaned[name] = tuple\n",
    "rejected_sessions_notcleaned_df = pd.DataFrame(rejected_sessions_notcleaned).T\n",
    "rejected_sessions_notcleaned_df['rejected'] = rejected_sessions_notcleaned_df.apply(lambda x: False if sum([x[0],x[1],x[2]]) == 3 else True,axis=1)\n",
    "rejected_sessions_notcleaned_df['rejected'].value_counts()"
   ]
  },
  {
   "cell_type": "code",
   "execution_count": 52,
   "metadata": {},
   "outputs": [
    {
     "data": {
      "text/html": [
       "<div>\n",
       "<style scoped>\n",
       "    .dataframe tbody tr th:only-of-type {\n",
       "        vertical-align: middle;\n",
       "    }\n",
       "\n",
       "    .dataframe tbody tr th {\n",
       "        vertical-align: top;\n",
       "    }\n",
       "\n",
       "    .dataframe thead th {\n",
       "        text-align: right;\n",
       "    }\n",
       "</style>\n",
       "<table border=\"1\" class=\"dataframe\">\n",
       "  <thead>\n",
       "    <tr style=\"text-align: right;\">\n",
       "      <th>1</th>\n",
       "      <th>False</th>\n",
       "      <th>True</th>\n",
       "    </tr>\n",
       "    <tr>\n",
       "      <th>rejected</th>\n",
       "      <th></th>\n",
       "      <th></th>\n",
       "    </tr>\n",
       "  </thead>\n",
       "  <tbody>\n",
       "    <tr>\n",
       "      <th>False</th>\n",
       "      <td>0</td>\n",
       "      <td>47</td>\n",
       "    </tr>\n",
       "    <tr>\n",
       "      <th>True</th>\n",
       "      <td>99</td>\n",
       "      <td>171</td>\n",
       "    </tr>\n",
       "  </tbody>\n",
       "</table>\n",
       "</div>"
      ],
      "text/plain": [
       "1         False  True \n",
       "rejected              \n",
       "False         0     47\n",
       "True         99    171"
      ]
     },
     "execution_count": 52,
     "metadata": {},
     "output_type": "execute_result"
    }
   ],
   "source": [
    "# do crosstab on rejected sessions\n",
    "\n",
    "pd.crosstab(rejected_sessions_notcleaned_df['rejected'],rejected_sessions_notcleaned_df[1])"
   ]
  },
  {
   "cell_type": "code",
   "execution_count": 49,
   "metadata": {},
   "outputs": [
    {
     "name": "stdout",
     "output_type": "stream",
     "text": [
      "0\n",
      "False    170\n",
      "True     147\n",
      "Name: count, dtype: int64\n",
      "1\n",
      "True     218\n",
      "False     99\n",
      "Name: count, dtype: int64\n",
      "2\n",
      "False    171\n",
      "True     146\n",
      "Name: count, dtype: int64\n",
      "rejected\n",
      "True     270\n",
      "False     47\n",
      "Name: count, dtype: int64\n"
     ]
    }
   ],
   "source": [
    "for col in rejected_sessions_notcleaned_df.columns:\n",
    "    print(rejected_sessions_notcleaned_df[col].value_counts())"
   ]
  },
  {
   "cell_type": "markdown",
   "metadata": {},
   "source": [
    "# Apply new algorithm criteria"
   ]
  },
  {
   "cell_type": "code",
   "execution_count": 11,
   "metadata": {},
   "outputs": [
    {
     "name": "stderr",
     "output_type": "stream",
     "text": [
      "c:\\Users\\LawT\\Downloads\\python\\openox\\lipnick_session_streamlit\\openox\\__init__.py:350: UserWarning: Could not infer format, so each element will be parsed individually, falling back to `dateutil`. To ensure parsing is consistent and as-expected, please specify a format.\n",
      "  df[timestamp_col] = pd.to_datetime(df[timestamp_col], errors='coerce')\n"
     ]
    },
    {
     "data": {
      "text/html": [
       "<div>\n",
       "<style scoped>\n",
       "    .dataframe tbody tr th:only-of-type {\n",
       "        vertical-align: middle;\n",
       "    }\n",
       "\n",
       "    .dataframe tbody tr th {\n",
       "        vertical-align: top;\n",
       "    }\n",
       "\n",
       "    .dataframe thead th {\n",
       "        text-align: right;\n",
       "    }\n",
       "</style>\n",
       "<table border=\"1\" class=\"dataframe\">\n",
       "  <thead>\n",
       "    <tr style=\"text-align: right;\">\n",
       "      <th></th>\n",
       "      <th>session</th>\n",
       "      <th>sample</th>\n",
       "      <th>Masimo 97/SpO2</th>\n",
       "      <th>Nellcor/SpO2</th>\n",
       "      <th>so2</th>\n",
       "      <th>Timestamp</th>\n",
       "      <th>manual_clean_so2</th>\n",
       "      <th>manual_clean_masimo</th>\n",
       "      <th>sample_diff_prev</th>\n",
       "      <th>sample_diff_next</th>\n",
       "      <th>...</th>\n",
       "      <th>Nellcor/SpO2_diff_prev</th>\n",
       "      <th>Nellcor/SpO2_diff_next</th>\n",
       "      <th>Timestamp_diff_prev</th>\n",
       "      <th>Timestamp_diff_next</th>\n",
       "      <th>so2_stable</th>\n",
       "      <th>so2_reason</th>\n",
       "      <th>Nellcor_stable</th>\n",
       "      <th>Nellcor_reason</th>\n",
       "      <th>algo_status</th>\n",
       "      <th>algo</th>\n",
       "    </tr>\n",
       "  </thead>\n",
       "  <tbody>\n",
       "    <tr>\n",
       "      <th>0</th>\n",
       "      <td>13</td>\n",
       "      <td>1</td>\n",
       "      <td>100.0</td>\n",
       "      <td>100.000000</td>\n",
       "      <td>99.4</td>\n",
       "      <td>2024-05-17 09:33:02</td>\n",
       "      <td>keep</td>\n",
       "      <td>keep</td>\n",
       "      <td>0.0</td>\n",
       "      <td>-1.0</td>\n",
       "      <td>...</td>\n",
       "      <td>0.000000</td>\n",
       "      <td>0.000000</td>\n",
       "      <td>0.0</td>\n",
       "      <td>-64.0</td>\n",
       "      <td>True</td>\n",
       "      <td>keep because previous sample is within bound</td>\n",
       "      <td>True</td>\n",
       "      <td>keep because previous sample is within bound</td>\n",
       "      <td>True</td>\n",
       "      <td>keep</td>\n",
       "    </tr>\n",
       "    <tr>\n",
       "      <th>1</th>\n",
       "      <td>13</td>\n",
       "      <td>2</td>\n",
       "      <td>100.0</td>\n",
       "      <td>100.000000</td>\n",
       "      <td>98.9</td>\n",
       "      <td>2024-05-17 09:34:06</td>\n",
       "      <td>keep</td>\n",
       "      <td>keep</td>\n",
       "      <td>1.0</td>\n",
       "      <td>-1.0</td>\n",
       "      <td>...</td>\n",
       "      <td>0.000000</td>\n",
       "      <td>1.909091</td>\n",
       "      <td>64.0</td>\n",
       "      <td>-40.0</td>\n",
       "      <td>True</td>\n",
       "      <td>keep because previous sample is within bound</td>\n",
       "      <td>True</td>\n",
       "      <td>keep because previous sample is within bound</td>\n",
       "      <td>True</td>\n",
       "      <td>keep</td>\n",
       "    </tr>\n",
       "    <tr>\n",
       "      <th>2</th>\n",
       "      <td>13</td>\n",
       "      <td>3</td>\n",
       "      <td>100.0</td>\n",
       "      <td>98.090909</td>\n",
       "      <td>98.6</td>\n",
       "      <td>2024-05-17 09:34:46</td>\n",
       "      <td>keep</td>\n",
       "      <td>keep</td>\n",
       "      <td>1.0</td>\n",
       "      <td>-1.0</td>\n",
       "      <td>...</td>\n",
       "      <td>-1.909091</td>\n",
       "      <td>-1.727273</td>\n",
       "      <td>40.0</td>\n",
       "      <td>-33.0</td>\n",
       "      <td>True</td>\n",
       "      <td>keep because previous sample is within bound</td>\n",
       "      <td>True</td>\n",
       "      <td>keep because previous sample is within bound</td>\n",
       "      <td>True</td>\n",
       "      <td>keep</td>\n",
       "    </tr>\n",
       "    <tr>\n",
       "      <th>3</th>\n",
       "      <td>13</td>\n",
       "      <td>4</td>\n",
       "      <td>100.0</td>\n",
       "      <td>99.818182</td>\n",
       "      <td>99.0</td>\n",
       "      <td>2024-05-17 09:35:19</td>\n",
       "      <td>keep</td>\n",
       "      <td>keep</td>\n",
       "      <td>1.0</td>\n",
       "      <td>-1.0</td>\n",
       "      <td>...</td>\n",
       "      <td>1.727273</td>\n",
       "      <td>-0.181818</td>\n",
       "      <td>33.0</td>\n",
       "      <td>-37.0</td>\n",
       "      <td>True</td>\n",
       "      <td>keep because previous sample is within bound</td>\n",
       "      <td>True</td>\n",
       "      <td>keep because previous sample is within bound</td>\n",
       "      <td>True</td>\n",
       "      <td>keep</td>\n",
       "    </tr>\n",
       "    <tr>\n",
       "      <th>4</th>\n",
       "      <td>13</td>\n",
       "      <td>5</td>\n",
       "      <td>100.0</td>\n",
       "      <td>100.000000</td>\n",
       "      <td>98.8</td>\n",
       "      <td>2024-05-17 09:35:56</td>\n",
       "      <td>keep</td>\n",
       "      <td>keep</td>\n",
       "      <td>1.0</td>\n",
       "      <td>-1.0</td>\n",
       "      <td>...</td>\n",
       "      <td>0.181818</td>\n",
       "      <td>3.909091</td>\n",
       "      <td>37.0</td>\n",
       "      <td>-389.0</td>\n",
       "      <td>True</td>\n",
       "      <td>keep because previous sample is within bound</td>\n",
       "      <td>True</td>\n",
       "      <td>keep because previous sample is within bound</td>\n",
       "      <td>True</td>\n",
       "      <td>keep</td>\n",
       "    </tr>\n",
       "  </tbody>\n",
       "</table>\n",
       "<p>5 rows × 22 columns</p>\n",
       "</div>"
      ],
      "text/plain": [
       "   session  sample  Masimo 97/SpO2  Nellcor/SpO2   so2           Timestamp  \\\n",
       "0       13       1           100.0    100.000000  99.4 2024-05-17 09:33:02   \n",
       "1       13       2           100.0    100.000000  98.9 2024-05-17 09:34:06   \n",
       "2       13       3           100.0     98.090909  98.6 2024-05-17 09:34:46   \n",
       "3       13       4           100.0     99.818182  99.0 2024-05-17 09:35:19   \n",
       "4       13       5           100.0    100.000000  98.8 2024-05-17 09:35:56   \n",
       "\n",
       "  manual_clean_so2 manual_clean_masimo  sample_diff_prev  sample_diff_next  \\\n",
       "0             keep                keep               0.0              -1.0   \n",
       "1             keep                keep               1.0              -1.0   \n",
       "2             keep                keep               1.0              -1.0   \n",
       "3             keep                keep               1.0              -1.0   \n",
       "4             keep                keep               1.0              -1.0   \n",
       "\n",
       "   ...  Nellcor/SpO2_diff_prev  Nellcor/SpO2_diff_next  Timestamp_diff_prev  \\\n",
       "0  ...                0.000000                0.000000                  0.0   \n",
       "1  ...                0.000000                1.909091                 64.0   \n",
       "2  ...               -1.909091               -1.727273                 40.0   \n",
       "3  ...                1.727273               -0.181818                 33.0   \n",
       "4  ...                0.181818                3.909091                 37.0   \n",
       "\n",
       "   Timestamp_diff_next  so2_stable  \\\n",
       "0                -64.0        True   \n",
       "1                -40.0        True   \n",
       "2                -33.0        True   \n",
       "3                -37.0        True   \n",
       "4               -389.0        True   \n",
       "\n",
       "                                     so2_reason  Nellcor_stable  \\\n",
       "0  keep because previous sample is within bound            True   \n",
       "1  keep because previous sample is within bound            True   \n",
       "2  keep because previous sample is within bound            True   \n",
       "3  keep because previous sample is within bound            True   \n",
       "4  keep because previous sample is within bound            True   \n",
       "\n",
       "                                 Nellcor_reason  algo_status  algo  \n",
       "0  keep because previous sample is within bound         True  keep  \n",
       "1  keep because previous sample is within bound         True  keep  \n",
       "2  keep because previous sample is within bound         True  keep  \n",
       "3  keep because previous sample is within bound         True  keep  \n",
       "4  keep because previous sample is within bound         True  keep  \n",
       "\n",
       "[5 rows x 22 columns]"
      ]
     },
     "execution_count": 11,
     "metadata": {},
     "output_type": "execute_result"
    }
   ],
   "source": [
    "reload(ox)\n",
    "labview_samples, counts = ox.sample_stability_multi(labview_samples, 'so2','Nellcor/SpO2', 'Timestamp','algo',1.5,2)\n",
    "labview_samples.to_csv('labview_samples.csv',index=True)\n",
    "labview_samples.head()"
   ]
  },
  {
   "cell_type": "markdown",
   "metadata": {},
   "source": [
    "# Do sensitivity analysis with new algorithm criteria"
   ]
  },
  {
   "cell_type": "markdown",
   "metadata": {},
   "source": [
    "The criteria is to reject a sample if either sao2 or reference oximeter are more than x or y% different from each other. Let's test the permutations of x and y."
   ]
  },
  {
   "cell_type": "markdown",
   "metadata": {},
   "source": [
    "Iterate through each permutation of cleaning threshold on the data repository, to create labview samples dataframes.\n",
    "\n",
    "For each permutation of ```(so2bound, refbound)```, count how many samples are kept and rejected, and add to a dictionary."
   ]
  },
  {
   "cell_type": "code",
   "execution_count": 13,
   "metadata": {},
   "outputs": [
    {
     "name": "stdout",
     "output_type": "stream",
     "text": [
      "[1.25 1.5  1.75 2.   2.25 2.5  2.75]\n"
     ]
    },
    {
     "data": {
      "application/vnd.jupyter.widget-view+json": {
       "model_id": "21bd273d77d9463c8e0eec7887cb8b4f",
       "version_major": 2,
       "version_minor": 0
      },
      "text/plain": [
       "  0%|          | 0/7 [00:00<?, ?it/s]"
      ]
     },
     "metadata": {},
     "output_type": "display_data"
    },
    {
     "data": {
      "application/vnd.jupyter.widget-view+json": {
       "model_id": "ddecd3b4d2284a119b9ac2afcb491745",
       "version_major": 2,
       "version_minor": 0
      },
      "text/plain": [
       "  0%|          | 0/7 [00:00<?, ?it/s]"
      ]
     },
     "metadata": {},
     "output_type": "display_data"
    },
    {
     "data": {
      "application/vnd.jupyter.widget-view+json": {
       "model_id": "4190533421af417697aa8f60313f1e1d",
       "version_major": 2,
       "version_minor": 0
      },
      "text/plain": [
       "  0%|          | 0/7 [00:00<?, ?it/s]"
      ]
     },
     "metadata": {},
     "output_type": "display_data"
    },
    {
     "data": {
      "application/vnd.jupyter.widget-view+json": {
       "model_id": "54bb651ed3ab425487e15cff5e0da02e",
       "version_major": 2,
       "version_minor": 0
      },
      "text/plain": [
       "  0%|          | 0/7 [00:00<?, ?it/s]"
      ]
     },
     "metadata": {},
     "output_type": "display_data"
    },
    {
     "data": {
      "application/vnd.jupyter.widget-view+json": {
       "model_id": "2cfc52aaf710407b92f27d50a54a520f",
       "version_major": 2,
       "version_minor": 0
      },
      "text/plain": [
       "  0%|          | 0/7 [00:00<?, ?it/s]"
      ]
     },
     "metadata": {},
     "output_type": "display_data"
    },
    {
     "data": {
      "application/vnd.jupyter.widget-view+json": {
       "model_id": "eefd87839c164591a5d23ff6418ff7f8",
       "version_major": 2,
       "version_minor": 0
      },
      "text/plain": [
       "  0%|          | 0/7 [00:00<?, ?it/s]"
      ]
     },
     "metadata": {},
     "output_type": "display_data"
    },
    {
     "data": {
      "application/vnd.jupyter.widget-view+json": {
       "model_id": "59dd30dbf66c4f89909689f534a256c1",
       "version_major": 2,
       "version_minor": 0
      },
      "text/plain": [
       "  0%|          | 0/7 [00:00<?, ?it/s]"
      ]
     },
     "metadata": {},
     "output_type": "display_data"
    },
    {
     "data": {
      "application/vnd.jupyter.widget-view+json": {
       "model_id": "2d9d4b2721204a19b1e5c253e4afc4df",
       "version_major": 2,
       "version_minor": 0
      },
      "text/plain": [
       "  0%|          | 0/7 [00:00<?, ?it/s]"
      ]
     },
     "metadata": {},
     "output_type": "display_data"
    }
   ],
   "source": [
    "labview_samples_cleaned = []\n",
    "\n",
    "arange = np.arange(1.25,3,0.25)\n",
    "print(arange)\n",
    "sensitivity_analysis = {}\n",
    "\n",
    "for so2bound in (pbar:= tqdm(arange, total=len(arange))):\n",
    "    pbar.set_postfix_str(f\"so2bound: {so2bound}\")\n",
    "    for refbound in (pbar2:=tqdm(arange, total=len(arange))):\n",
    "        pbar2.set_postfix_str(f\"refbound: {refbound}\")\n",
    "        df, value_counts = ox.sample_stability_multi(labview_samples, 'so2','Nellcor/SpO2', 'Timestamp','algo',so2bound,refbound)\n",
    "        sensitivity_analysis[(so2bound,refbound)] = value_counts\n",
    "        df['so2bound'] = so2bound\n",
    "        df['refbound'] = refbound\n",
    "        labview_samples_cleaned.append(df)\n",
    "\n",
    "labview_samples_cleaned = pd.concat(labview_samples_cleaned)"
   ]
  },
  {
   "cell_type": "markdown",
   "metadata": {},
   "source": [
    "## Sensitivity analysis of rejected *samples*"
   ]
  },
  {
   "cell_type": "code",
   "execution_count": 14,
   "metadata": {},
   "outputs": [
    {
     "data": {
      "text/html": [
       "<div>\n",
       "<style scoped>\n",
       "    .dataframe tbody tr th:only-of-type {\n",
       "        vertical-align: middle;\n",
       "    }\n",
       "\n",
       "    .dataframe tbody tr th {\n",
       "        vertical-align: top;\n",
       "    }\n",
       "\n",
       "    .dataframe thead th {\n",
       "        text-align: right;\n",
       "    }\n",
       "</style>\n",
       "<table border=\"1\" class=\"dataframe\">\n",
       "  <thead>\n",
       "    <tr style=\"text-align: right;\">\n",
       "      <th></th>\n",
       "      <th>so2bound</th>\n",
       "      <th>refbound</th>\n",
       "      <th>keep</th>\n",
       "      <th>reject_nellcor</th>\n",
       "      <th>reject_both</th>\n",
       "      <th>reject_so2</th>\n",
       "      <th>reject</th>\n",
       "    </tr>\n",
       "  </thead>\n",
       "  <tbody>\n",
       "    <tr>\n",
       "      <th>0</th>\n",
       "      <td>1.25</td>\n",
       "      <td>1.25</td>\n",
       "      <td>6580</td>\n",
       "      <td>535</td>\n",
       "      <td>363</td>\n",
       "      <td>330</td>\n",
       "      <td>1228</td>\n",
       "    </tr>\n",
       "    <tr>\n",
       "      <th>1</th>\n",
       "      <td>1.25</td>\n",
       "      <td>1.50</td>\n",
       "      <td>6712</td>\n",
       "      <td>403</td>\n",
       "      <td>328</td>\n",
       "      <td>365</td>\n",
       "      <td>1096</td>\n",
       "    </tr>\n",
       "    <tr>\n",
       "      <th>2</th>\n",
       "      <td>1.25</td>\n",
       "      <td>1.75</td>\n",
       "      <td>6813</td>\n",
       "      <td>302</td>\n",
       "      <td>304</td>\n",
       "      <td>389</td>\n",
       "      <td>995</td>\n",
       "    </tr>\n",
       "    <tr>\n",
       "      <th>3</th>\n",
       "      <td>1.25</td>\n",
       "      <td>2.00</td>\n",
       "      <td>6856</td>\n",
       "      <td>259</td>\n",
       "      <td>283</td>\n",
       "      <td>410</td>\n",
       "      <td>952</td>\n",
       "    </tr>\n",
       "    <tr>\n",
       "      <th>4</th>\n",
       "      <td>1.25</td>\n",
       "      <td>2.25</td>\n",
       "      <td>6985</td>\n",
       "      <td>130</td>\n",
       "      <td>185</td>\n",
       "      <td>508</td>\n",
       "      <td>823</td>\n",
       "    </tr>\n",
       "  </tbody>\n",
       "</table>\n",
       "</div>"
      ],
      "text/plain": [
       "   so2bound  refbound  keep  reject_nellcor  reject_both  reject_so2  reject\n",
       "0      1.25      1.25  6580             535          363         330    1228\n",
       "1      1.25      1.50  6712             403          328         365    1096\n",
       "2      1.25      1.75  6813             302          304         389     995\n",
       "3      1.25      2.00  6856             259          283         410     952\n",
       "4      1.25      2.25  6985             130          185         508     823"
      ]
     },
     "execution_count": 14,
     "metadata": {},
     "output_type": "execute_result"
    }
   ],
   "source": [
    "# Convert the dictionary to a list of dictionaries with separated keys and inner values\n",
    "rows = [\n",
    "    {'so2bound': k[0], 'refbound': k[1], **v}\n",
    "    for k, v in sensitivity_analysis.items()\n",
    "]\n",
    "\n",
    "# Create a DataFrame from the list of dictionaries\n",
    "sens = pd.DataFrame(rows)\n",
    "sens['reject'] = sens['reject_nellcor'] + sens['reject_both'] + sens['reject_so2']\n",
    "sens.to_csv('sens.csv')\n",
    "sens.head()"
   ]
  },
  {
   "cell_type": "markdown",
   "metadata": {},
   "source": [
    "## Sensitivity of rejected *sessions*"
   ]
  },
  {
   "cell_type": "markdown",
   "metadata": {},
   "source": [
    "Now take the large labview samples df, and apply function to check whether the sessions pass based on FDA criteria. This will help us understand how our cleaning algorithm causes sessions to pass or fail based on ISO criteria, and choose a cleaning threshold."
   ]
  },
  {
   "cell_type": "code",
   "execution_count": 15,
   "metadata": {},
   "outputs": [
    {
     "data": {
      "application/vnd.jupyter.widget-view+json": {
       "model_id": "0e4ee8aef02d4ec0b352c2101449bf52",
       "version_major": 2,
       "version_minor": 0
      },
      "text/plain": [
       "  0%|          | 0/7 [00:00<?, ?it/s]"
      ]
     },
     "metadata": {},
     "output_type": "display_data"
    }
   ],
   "source": [
    "rejected_sessions = {}\n",
    "\n",
    "#iterate through dataframes in groupby object\n",
    "for name, group in (pbar:=(tqdm(labview_samples_cleaned.groupby(['so2bound','refbound','session']),total=len(pbar)))):\n",
    "    pbar.set_postfix_str(f\"session: {name}\")\n",
    "    group=group[group['algo'] == 'keep']\n",
    "    tuple, df = ox.session_criteria_check(group)\n",
    "    rejected_sessions[name] = tuple\n"
   ]
  },
  {
   "cell_type": "code",
   "execution_count": 17,
   "metadata": {},
   "outputs": [
    {
     "data": {
      "text/html": [
       "<div>\n",
       "<style scoped>\n",
       "    .dataframe tbody tr th:only-of-type {\n",
       "        vertical-align: middle;\n",
       "    }\n",
       "\n",
       "    .dataframe tbody tr th {\n",
       "        vertical-align: top;\n",
       "    }\n",
       "\n",
       "    .dataframe thead th {\n",
       "        text-align: right;\n",
       "    }\n",
       "</style>\n",
       "<table border=\"1\" class=\"dataframe\">\n",
       "  <thead>\n",
       "    <tr style=\"text-align: right;\">\n",
       "      <th></th>\n",
       "      <th>so2bound</th>\n",
       "      <th>refbound</th>\n",
       "      <th>rejected</th>\n",
       "    </tr>\n",
       "  </thead>\n",
       "  <tbody>\n",
       "    <tr>\n",
       "      <th>0</th>\n",
       "      <td>1.25</td>\n",
       "      <td>1.25</td>\n",
       "      <td>283</td>\n",
       "    </tr>\n",
       "    <tr>\n",
       "      <th>1</th>\n",
       "      <td>1.25</td>\n",
       "      <td>1.50</td>\n",
       "      <td>280</td>\n",
       "    </tr>\n",
       "    <tr>\n",
       "      <th>2</th>\n",
       "      <td>1.25</td>\n",
       "      <td>1.75</td>\n",
       "      <td>276</td>\n",
       "    </tr>\n",
       "    <tr>\n",
       "      <th>3</th>\n",
       "      <td>1.25</td>\n",
       "      <td>2.00</td>\n",
       "      <td>276</td>\n",
       "    </tr>\n",
       "    <tr>\n",
       "      <th>4</th>\n",
       "      <td>1.25</td>\n",
       "      <td>2.25</td>\n",
       "      <td>274</td>\n",
       "    </tr>\n",
       "    <tr>\n",
       "      <th>5</th>\n",
       "      <td>1.25</td>\n",
       "      <td>2.50</td>\n",
       "      <td>273</td>\n",
       "    </tr>\n",
       "    <tr>\n",
       "      <th>6</th>\n",
       "      <td>1.25</td>\n",
       "      <td>2.75</td>\n",
       "      <td>272</td>\n",
       "    </tr>\n",
       "    <tr>\n",
       "      <th>7</th>\n",
       "      <td>1.50</td>\n",
       "      <td>1.25</td>\n",
       "      <td>277</td>\n",
       "    </tr>\n",
       "    <tr>\n",
       "      <th>8</th>\n",
       "      <td>1.50</td>\n",
       "      <td>1.50</td>\n",
       "      <td>272</td>\n",
       "    </tr>\n",
       "    <tr>\n",
       "      <th>9</th>\n",
       "      <td>1.50</td>\n",
       "      <td>1.75</td>\n",
       "      <td>270</td>\n",
       "    </tr>\n",
       "    <tr>\n",
       "      <th>10</th>\n",
       "      <td>1.50</td>\n",
       "      <td>2.00</td>\n",
       "      <td>270</td>\n",
       "    </tr>\n",
       "    <tr>\n",
       "      <th>11</th>\n",
       "      <td>1.50</td>\n",
       "      <td>2.25</td>\n",
       "      <td>267</td>\n",
       "    </tr>\n",
       "    <tr>\n",
       "      <th>12</th>\n",
       "      <td>1.50</td>\n",
       "      <td>2.50</td>\n",
       "      <td>265</td>\n",
       "    </tr>\n",
       "    <tr>\n",
       "      <th>13</th>\n",
       "      <td>1.50</td>\n",
       "      <td>2.75</td>\n",
       "      <td>264</td>\n",
       "    </tr>\n",
       "    <tr>\n",
       "      <th>14</th>\n",
       "      <td>1.75</td>\n",
       "      <td>1.25</td>\n",
       "      <td>274</td>\n",
       "    </tr>\n",
       "    <tr>\n",
       "      <th>15</th>\n",
       "      <td>1.75</td>\n",
       "      <td>1.50</td>\n",
       "      <td>270</td>\n",
       "    </tr>\n",
       "    <tr>\n",
       "      <th>16</th>\n",
       "      <td>1.75</td>\n",
       "      <td>1.75</td>\n",
       "      <td>268</td>\n",
       "    </tr>\n",
       "    <tr>\n",
       "      <th>17</th>\n",
       "      <td>1.75</td>\n",
       "      <td>2.00</td>\n",
       "      <td>268</td>\n",
       "    </tr>\n",
       "    <tr>\n",
       "      <th>18</th>\n",
       "      <td>1.75</td>\n",
       "      <td>2.25</td>\n",
       "      <td>264</td>\n",
       "    </tr>\n",
       "    <tr>\n",
       "      <th>19</th>\n",
       "      <td>1.75</td>\n",
       "      <td>2.50</td>\n",
       "      <td>261</td>\n",
       "    </tr>\n",
       "    <tr>\n",
       "      <th>20</th>\n",
       "      <td>1.75</td>\n",
       "      <td>2.75</td>\n",
       "      <td>260</td>\n",
       "    </tr>\n",
       "    <tr>\n",
       "      <th>21</th>\n",
       "      <td>2.00</td>\n",
       "      <td>1.25</td>\n",
       "      <td>272</td>\n",
       "    </tr>\n",
       "    <tr>\n",
       "      <th>22</th>\n",
       "      <td>2.00</td>\n",
       "      <td>1.50</td>\n",
       "      <td>268</td>\n",
       "    </tr>\n",
       "    <tr>\n",
       "      <th>23</th>\n",
       "      <td>2.00</td>\n",
       "      <td>1.75</td>\n",
       "      <td>266</td>\n",
       "    </tr>\n",
       "    <tr>\n",
       "      <th>24</th>\n",
       "      <td>2.00</td>\n",
       "      <td>2.00</td>\n",
       "      <td>266</td>\n",
       "    </tr>\n",
       "    <tr>\n",
       "      <th>25</th>\n",
       "      <td>2.00</td>\n",
       "      <td>2.25</td>\n",
       "      <td>256</td>\n",
       "    </tr>\n",
       "    <tr>\n",
       "      <th>26</th>\n",
       "      <td>2.00</td>\n",
       "      <td>2.50</td>\n",
       "      <td>253</td>\n",
       "    </tr>\n",
       "    <tr>\n",
       "      <th>27</th>\n",
       "      <td>2.00</td>\n",
       "      <td>2.75</td>\n",
       "      <td>252</td>\n",
       "    </tr>\n",
       "    <tr>\n",
       "      <th>28</th>\n",
       "      <td>2.25</td>\n",
       "      <td>1.25</td>\n",
       "      <td>270</td>\n",
       "    </tr>\n",
       "    <tr>\n",
       "      <th>29</th>\n",
       "      <td>2.25</td>\n",
       "      <td>1.50</td>\n",
       "      <td>265</td>\n",
       "    </tr>\n",
       "    <tr>\n",
       "      <th>30</th>\n",
       "      <td>2.25</td>\n",
       "      <td>1.75</td>\n",
       "      <td>263</td>\n",
       "    </tr>\n",
       "    <tr>\n",
       "      <th>31</th>\n",
       "      <td>2.25</td>\n",
       "      <td>2.00</td>\n",
       "      <td>263</td>\n",
       "    </tr>\n",
       "    <tr>\n",
       "      <th>32</th>\n",
       "      <td>2.25</td>\n",
       "      <td>2.25</td>\n",
       "      <td>249</td>\n",
       "    </tr>\n",
       "    <tr>\n",
       "      <th>33</th>\n",
       "      <td>2.25</td>\n",
       "      <td>2.50</td>\n",
       "      <td>247</td>\n",
       "    </tr>\n",
       "    <tr>\n",
       "      <th>34</th>\n",
       "      <td>2.25</td>\n",
       "      <td>2.75</td>\n",
       "      <td>245</td>\n",
       "    </tr>\n",
       "    <tr>\n",
       "      <th>35</th>\n",
       "      <td>2.50</td>\n",
       "      <td>1.25</td>\n",
       "      <td>268</td>\n",
       "    </tr>\n",
       "    <tr>\n",
       "      <th>36</th>\n",
       "      <td>2.50</td>\n",
       "      <td>1.50</td>\n",
       "      <td>262</td>\n",
       "    </tr>\n",
       "    <tr>\n",
       "      <th>37</th>\n",
       "      <td>2.50</td>\n",
       "      <td>1.75</td>\n",
       "      <td>260</td>\n",
       "    </tr>\n",
       "    <tr>\n",
       "      <th>38</th>\n",
       "      <td>2.50</td>\n",
       "      <td>2.00</td>\n",
       "      <td>259</td>\n",
       "    </tr>\n",
       "    <tr>\n",
       "      <th>39</th>\n",
       "      <td>2.50</td>\n",
       "      <td>2.25</td>\n",
       "      <td>245</td>\n",
       "    </tr>\n",
       "    <tr>\n",
       "      <th>40</th>\n",
       "      <td>2.50</td>\n",
       "      <td>2.50</td>\n",
       "      <td>242</td>\n",
       "    </tr>\n",
       "    <tr>\n",
       "      <th>41</th>\n",
       "      <td>2.50</td>\n",
       "      <td>2.75</td>\n",
       "      <td>239</td>\n",
       "    </tr>\n",
       "    <tr>\n",
       "      <th>42</th>\n",
       "      <td>2.75</td>\n",
       "      <td>1.25</td>\n",
       "      <td>267</td>\n",
       "    </tr>\n",
       "    <tr>\n",
       "      <th>43</th>\n",
       "      <td>2.75</td>\n",
       "      <td>1.50</td>\n",
       "      <td>261</td>\n",
       "    </tr>\n",
       "    <tr>\n",
       "      <th>44</th>\n",
       "      <td>2.75</td>\n",
       "      <td>1.75</td>\n",
       "      <td>258</td>\n",
       "    </tr>\n",
       "    <tr>\n",
       "      <th>45</th>\n",
       "      <td>2.75</td>\n",
       "      <td>2.00</td>\n",
       "      <td>257</td>\n",
       "    </tr>\n",
       "    <tr>\n",
       "      <th>46</th>\n",
       "      <td>2.75</td>\n",
       "      <td>2.25</td>\n",
       "      <td>241</td>\n",
       "    </tr>\n",
       "    <tr>\n",
       "      <th>47</th>\n",
       "      <td>2.75</td>\n",
       "      <td>2.50</td>\n",
       "      <td>238</td>\n",
       "    </tr>\n",
       "    <tr>\n",
       "      <th>48</th>\n",
       "      <td>2.75</td>\n",
       "      <td>2.75</td>\n",
       "      <td>235</td>\n",
       "    </tr>\n",
       "  </tbody>\n",
       "</table>\n",
       "</div>"
      ],
      "text/plain": [
       "    so2bound  refbound  rejected\n",
       "0       1.25      1.25       283\n",
       "1       1.25      1.50       280\n",
       "2       1.25      1.75       276\n",
       "3       1.25      2.00       276\n",
       "4       1.25      2.25       274\n",
       "5       1.25      2.50       273\n",
       "6       1.25      2.75       272\n",
       "7       1.50      1.25       277\n",
       "8       1.50      1.50       272\n",
       "9       1.50      1.75       270\n",
       "10      1.50      2.00       270\n",
       "11      1.50      2.25       267\n",
       "12      1.50      2.50       265\n",
       "13      1.50      2.75       264\n",
       "14      1.75      1.25       274\n",
       "15      1.75      1.50       270\n",
       "16      1.75      1.75       268\n",
       "17      1.75      2.00       268\n",
       "18      1.75      2.25       264\n",
       "19      1.75      2.50       261\n",
       "20      1.75      2.75       260\n",
       "21      2.00      1.25       272\n",
       "22      2.00      1.50       268\n",
       "23      2.00      1.75       266\n",
       "24      2.00      2.00       266\n",
       "25      2.00      2.25       256\n",
       "26      2.00      2.50       253\n",
       "27      2.00      2.75       252\n",
       "28      2.25      1.25       270\n",
       "29      2.25      1.50       265\n",
       "30      2.25      1.75       263\n",
       "31      2.25      2.00       263\n",
       "32      2.25      2.25       249\n",
       "33      2.25      2.50       247\n",
       "34      2.25      2.75       245\n",
       "35      2.50      1.25       268\n",
       "36      2.50      1.50       262\n",
       "37      2.50      1.75       260\n",
       "38      2.50      2.00       259\n",
       "39      2.50      2.25       245\n",
       "40      2.50      2.50       242\n",
       "41      2.50      2.75       239\n",
       "42      2.75      1.25       267\n",
       "43      2.75      1.50       261\n",
       "44      2.75      1.75       258\n",
       "45      2.75      2.00       257\n",
       "46      2.75      2.25       241\n",
       "47      2.75      2.50       238\n",
       "48      2.75      2.75       235"
      ]
     },
     "execution_count": 17,
     "metadata": {},
     "output_type": "execute_result"
    }
   ],
   "source": [
    "rejected_sessions_df = pd.DataFrame(rejected_sessions).T.reset_index()\n",
    "rejected_sessions_df.columns = ['so2bound','refbound','session','criteria1','criteria2','criteria3']\n",
    "rejected_sessions_df['rejected'] = rejected_sessions_df.apply(lambda x: True if sum([x['criteria1'],x['criteria2'],x['criteria3']]) <3 else False, axis=1)\n",
    "\n",
    "t1 = rejected_sessions_df.groupby(['so2bound','refbound']).sum().reset_index()[['so2bound','refbound','rejected']]\n",
    "t1\n",
    "# rejected_sessions_df"
   ]
  },
  {
   "cell_type": "code",
   "execution_count": 18,
   "metadata": {},
   "outputs": [],
   "source": [
    "import seaborn as sns\n",
    "import matplotlib.pyplot as plt\n",
    "from matplotlib.ticker import FuncFormatter\n"
   ]
  },
  {
   "cell_type": "code",
   "execution_count": 19,
   "metadata": {},
   "outputs": [
    {
     "data": {
      "text/html": [
       "<div>\n",
       "<style scoped>\n",
       "    .dataframe tbody tr th:only-of-type {\n",
       "        vertical-align: middle;\n",
       "    }\n",
       "\n",
       "    .dataframe tbody tr th {\n",
       "        vertical-align: top;\n",
       "    }\n",
       "\n",
       "    .dataframe thead th {\n",
       "        text-align: right;\n",
       "    }\n",
       "</style>\n",
       "<table border=\"1\" class=\"dataframe\">\n",
       "  <thead>\n",
       "    <tr style=\"text-align: right;\">\n",
       "      <th>refbound</th>\n",
       "      <th>1.25</th>\n",
       "      <th>1.50</th>\n",
       "      <th>1.75</th>\n",
       "      <th>2.00</th>\n",
       "      <th>2.25</th>\n",
       "      <th>2.50</th>\n",
       "      <th>2.75</th>\n",
       "    </tr>\n",
       "    <tr>\n",
       "      <th>so2bound</th>\n",
       "      <th></th>\n",
       "      <th></th>\n",
       "      <th></th>\n",
       "      <th></th>\n",
       "      <th></th>\n",
       "      <th></th>\n",
       "      <th></th>\n",
       "    </tr>\n",
       "  </thead>\n",
       "  <tbody>\n",
       "    <tr>\n",
       "      <th>1.25</th>\n",
       "      <td>283</td>\n",
       "      <td>280</td>\n",
       "      <td>276</td>\n",
       "      <td>276</td>\n",
       "      <td>274</td>\n",
       "      <td>273</td>\n",
       "      <td>272</td>\n",
       "    </tr>\n",
       "    <tr>\n",
       "      <th>1.50</th>\n",
       "      <td>277</td>\n",
       "      <td>272</td>\n",
       "      <td>270</td>\n",
       "      <td>270</td>\n",
       "      <td>267</td>\n",
       "      <td>265</td>\n",
       "      <td>264</td>\n",
       "    </tr>\n",
       "    <tr>\n",
       "      <th>1.75</th>\n",
       "      <td>274</td>\n",
       "      <td>270</td>\n",
       "      <td>268</td>\n",
       "      <td>268</td>\n",
       "      <td>264</td>\n",
       "      <td>261</td>\n",
       "      <td>260</td>\n",
       "    </tr>\n",
       "    <tr>\n",
       "      <th>2.00</th>\n",
       "      <td>272</td>\n",
       "      <td>268</td>\n",
       "      <td>266</td>\n",
       "      <td>266</td>\n",
       "      <td>256</td>\n",
       "      <td>253</td>\n",
       "      <td>252</td>\n",
       "    </tr>\n",
       "    <tr>\n",
       "      <th>2.25</th>\n",
       "      <td>270</td>\n",
       "      <td>265</td>\n",
       "      <td>263</td>\n",
       "      <td>263</td>\n",
       "      <td>249</td>\n",
       "      <td>247</td>\n",
       "      <td>245</td>\n",
       "    </tr>\n",
       "    <tr>\n",
       "      <th>2.50</th>\n",
       "      <td>268</td>\n",
       "      <td>262</td>\n",
       "      <td>260</td>\n",
       "      <td>259</td>\n",
       "      <td>245</td>\n",
       "      <td>242</td>\n",
       "      <td>239</td>\n",
       "    </tr>\n",
       "    <tr>\n",
       "      <th>2.75</th>\n",
       "      <td>267</td>\n",
       "      <td>261</td>\n",
       "      <td>258</td>\n",
       "      <td>257</td>\n",
       "      <td>241</td>\n",
       "      <td>238</td>\n",
       "      <td>235</td>\n",
       "    </tr>\n",
       "  </tbody>\n",
       "</table>\n",
       "</div>"
      ],
      "text/plain": [
       "refbound  1.25  1.50  1.75  2.00  2.25  2.50  2.75\n",
       "so2bound                                          \n",
       "1.25       283   280   276   276   274   273   272\n",
       "1.50       277   272   270   270   267   265   264\n",
       "1.75       274   270   268   268   264   261   260\n",
       "2.00       272   268   266   266   256   253   252\n",
       "2.25       270   265   263   263   249   247   245\n",
       "2.50       268   262   260   259   245   242   239\n",
       "2.75       267   261   258   257   241   238   235"
      ]
     },
     "execution_count": 19,
     "metadata": {},
     "output_type": "execute_result"
    }
   ],
   "source": [
    "t1h = t1.pivot(index='so2bound',columns='refbound',values='rejected')\n",
    "t1h"
   ]
  },
  {
   "cell_type": "code",
   "execution_count": 35,
   "metadata": {},
   "outputs": [
    {
     "data": {
      "text/plain": [
       "<Axes: xlabel='refbound', ylabel='so2bound'>"
      ]
     },
     "execution_count": 35,
     "metadata": {},
     "output_type": "execute_result"
    }
   ],
   "source": [
    "sns.heatmap(t1h, annot=True, fmt='g')"
   ]
  },
  {
   "cell_type": "code",
   "execution_count": 20,
   "metadata": {},
   "outputs": [],
   "source": [
    "import plotly.express as px\n"
   ]
  },
  {
   "cell_type": "code",
   "execution_count": 31,
   "metadata": {},
   "outputs": [
    {
     "name": "stderr",
     "output_type": "stream",
     "text": [
      "C:\\Users\\LawT\\AppData\\Local\\Temp\\1\\ipykernel_18204\\2472859781.py:30: UserWarning: This figure includes Axes that are not compatible with tight_layout, so results might be incorrect.\n",
      "  plt.tight_layout(rect=[0, 0, .9, 1])  # Adjust the rect to make room for the color bar\n"
     ]
    }
   ],
   "source": [
    "# Pivot the data for heatmap plotting using keyword arguments\n",
    "pivot_table_so2 = sens.pivot(index=\"so2bound\", columns=\"refbound\", values=\"reject_so2\")\n",
    "pivot_table_nellcor = sens.pivot(index=\"so2bound\", columns=\"refbound\", values=\"reject_nellcor\")\n",
    "pivot_table_both = sens.pivot(index=\"so2bound\", columns=\"refbound\", values=\"reject_both\")\n",
    "pivot_table_reject = sens.pivot(index=\"so2bound\", columns=\"refbound\", values=\"reject\")\n",
    "\n",
    "# Create heatmaps in a 2x2 grid\n",
    "fig, ax = plt.subplots(2, 2, figsize=(18, 12))\n",
    "\n",
    "# Define a common color bar for all heatmaps\n",
    "cbar_ax = fig.add_axes([.91, .3, .03, .4])\n",
    "\n",
    "# Titles for each heatmap\n",
    "titles = ['Reject SO2', 'Reject Nellcor', 'Reject Both', 'Reject']\n",
    "\n",
    "# Mapping each pivot table with a title\n",
    "for ax_coords, pivot_table, title in zip([(0, 0), (0, 1), (1, 0), (1, 1)],\n",
    "                                         [pivot_table_so2, pivot_table_nellcor, pivot_table_both, pivot_table_reject],\n",
    "                                         titles):\n",
    "    i, j = ax_coords\n",
    "    sns.heatmap(pivot_table, cmap='coolwarm',\n",
    "                annot=True, ax=ax[i][j], fmt='d',\n",
    "                cbar=i == 0 and j == 1, cbar_ax=None if not (i == 0 and j == 1) else cbar_ax,\n",
    "                cbar_kws={'label': 'Count'})\n",
    "    ax[i][j].set_title(f'Heatmap of {title}')\n",
    "    ax[i][j].set_xlabel('Ref Bound')\n",
    "    ax[i][j].set_ylabel('SO2 Bound')\n",
    "    ax[i][j].invert_yaxis()\n",
    "\n",
    "plt.tight_layout(rect=[0, 0, .9, 1])  # Adjust the rect to make room for the color bar\n",
    "plt.show()"
   ]
  },
  {
   "cell_type": "markdown",
   "metadata": {},
   "source": [
    "# Upload to Redcap"
   ]
  },
  {
   "cell_type": "code",
   "execution_count": 23,
   "metadata": {},
   "outputs": [],
   "source": [
    "sens = pd.read_csv('sens.csv')"
   ]
  },
  {
   "cell_type": "code",
   "execution_count": 24,
   "metadata": {},
   "outputs": [],
   "source": [
    "from redcap import Project\n",
    "import streamlit as st\n",
    "    \n",
    "api_url = 'https://redcap.ucsf.edu/api/'\n",
    "api_k = st.secrets['api_k']\n",
    "proj = Project(api_url, api_k)\n",
    "# f = io.BytesIO(proj.import_file(record='9', field='file')[0])\n",
    "# proj.import_file(record='9', file_name='labview_samples.csv',field='file', file_object=labview_samples.to_csv(index=True))"
   ]
  }
 ],
 "metadata": {
  "kernelspec": {
   "display_name": "nofrills",
   "language": "python",
   "name": "python3"
  },
  "language_info": {
   "codemirror_mode": {
    "name": "ipython",
    "version": 3
   },
   "file_extension": ".py",
   "mimetype": "text/x-python",
   "name": "python",
   "nbconvert_exporter": "python",
   "pygments_lexer": "ipython3",
   "version": "3.12.3"
  }
 },
 "nbformat": 4,
 "nbformat_minor": 2
}
